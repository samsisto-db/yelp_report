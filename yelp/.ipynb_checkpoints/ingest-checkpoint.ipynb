{
 "cells": [
  {
   "cell_type": "code",
   "execution_count": 7,
   "metadata": {
    "collapsed": false
   },
   "outputs": [],
   "source": [
    "import pandas as pd\n",
    "import json"
   ]
  },
  {
   "cell_type": "code",
   "execution_count": 2,
   "metadata": {
    "collapsed": true
   },
   "outputs": [],
   "source": [
    "####################################################\n",
    "# Initial Data Ingest\n",
    "####################################################\n",
    "\n",
    "# Using what we have learned about pandas, we break\n",
    "# the initial Yelp Academic dataset into 3 separate\n",
    "# files, all containing JSON objects for users,\n",
    "# reviews and businesses, respectively. We take the\n",
    "# paths where these .json files are located and read \n",
    "# them into a DataFrame.\n",
    "\n",
    "def load_json_to_df(filepath):\n",
    "    data = []\n",
    "    with open(filepath) as f:\n",
    "        for line in f:\n",
    "            data.append(json.loads(line))\n",
    "    df = pd.DataFrame(data)\n",
    "    return df"
   ]
  },
  {
   "cell_type": "code",
   "execution_count": 3,
   "metadata": {
    "collapsed": true
   },
   "outputs": [],
   "source": [
    "path1 = '/Users/samsisto/Desktop/Yelp Users/yelp_users.json'\n",
    "path2 = '/Users/samsisto/Desktop/Yelp Business/yelp_businesses.json'\n",
    "path3 = '/Users/samsisto/Desktop/Yelp Reviews/yelp_reviews.json'\n",
    "\n",
    "users = load_json_to_df(path1)\n",
    "business = load_json_to_df(path2)\n",
    "reviews = load_json_to_df(path3)"
   ]
  }
 ],
 "metadata": {
  "kernelspec": {
   "display_name": "Python 2",
   "language": "python",
   "name": "python2"
  },
  "language_info": {
   "codemirror_mode": {
    "name": "ipython",
    "version": 2
   },
   "file_extension": ".py",
   "mimetype": "text/x-python",
   "name": "python",
   "nbconvert_exporter": "python",
   "pygments_lexer": "ipython2",
   "version": "2.7.11"
  }
 },
 "nbformat": 4,
 "nbformat_minor": 0
}
