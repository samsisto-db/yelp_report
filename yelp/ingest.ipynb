{
 "cells": [
  {
   "cell_type": "code",
   "execution_count": 1,
   "metadata": {
    "collapsed": false
   },
   "outputs": [
    {
     "name": "stderr",
     "output_type": "stream",
     "text": [
      "/Users/samsisto/anaconda/lib/python2.7/site-packages/matplotlib/__init__.py:872: UserWarning: axes.color_cycle is deprecated and replaced with axes.prop_cycle; please use the latter.\n",
      "  warnings.warn(self.msg_depr % (key, alt_key))\n"
     ]
    }
   ],
   "source": [
    "import pandas as pd\n",
    "import matplotlib.pyplot as plt\n",
    "import seaborn as sns\n",
    "import json\n",
    "from pprint import pprint\n",
    "import re\n",
    "import os\n",
    "import glob\n",
    "from bs4 import BeautifulSoup\n",
    "import requests\n",
    "%matplotlib inline\n",
    "from sklearn import metrics\n",
    "import numpy as np\n",
    "import unicodedata\n",
    "import time"
   ]
  },
  {
   "cell_type": "code",
   "execution_count": 2,
   "metadata": {
    "collapsed": true
   },
   "outputs": [],
   "source": [
    "####################################################\n",
    "# Initial Data Ingest\n",
    "####################################################\n",
    "\n",
    "# Using what we have learned about pandas, we break\n",
    "# the initial Yelp Academic dataset into 3 separate\n",
    "# files, all containing JSON objects for users,\n",
    "# reviews and businesses, respectively. We take the\n",
    "# paths where these .json files are located and read \n",
    "# them into a DataFrame.\n",
    "\n",
    "path1 = '/Users/samsisto/Desktop/Yelp Users/yelp_users.json'\n",
    "path2 = '/Users/samsisto/Desktop/Yelp Business/yelp_businesses.json'\n",
    "path3 = '/Users/samsisto/Desktop/Yelp Reviews/yelp_reviews.json'\n",
    "\n",
    "data = []\n",
    "with open(path1) as f:\n",
    "    for line in f:\n",
    "        data.append(json.loads(line))\n",
    "users = pd.DataFrame(data)\n",
    "\n",
    "data = []\n",
    "with open(path2) as f:\n",
    "    for line in f:\n",
    "        data.append(json.loads(line))\n",
    "business = pd.DataFrame(data)\n",
    "\n",
    "data = []\n",
    "with open(path3) as f:\n",
    "    for line in f:\n",
    "        data.append(json.loads(line))\n",
    "reviews = pd.DataFrame(data)"
   ]
  }
 ],
 "metadata": {
  "kernelspec": {
   "display_name": "Python 2",
   "language": "python",
   "name": "python2"
  },
  "language_info": {
   "codemirror_mode": {
    "name": "ipython",
    "version": 2
   },
   "file_extension": ".py",
   "mimetype": "text/x-python",
   "name": "python",
   "nbconvert_exporter": "python",
   "pygments_lexer": "ipython2",
   "version": "2.7.11"
  }
 },
 "nbformat": 4,
 "nbformat_minor": 0
}
